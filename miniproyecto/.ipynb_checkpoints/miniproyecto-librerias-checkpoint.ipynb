{
 "cells": [
  {
   "cell_type": "code",
   "execution_count": 131,
   "id": "aac7d793",
   "metadata": {},
   "outputs": [
    {
     "data": {
      "image/png": "[encoded data removed]",
      "text/plain": [
       "<PIL.Image.Image image mode=RGB size=256x256>"
      ]
     },
     "metadata": {},
     "output_type": "display_data"
    }
   ],
   "source": [
    "from PIL import Image\n",
    "\n",
    "img = Image.new('RGB', (256,256))\n",
    "img.save('256x256.png')\n",
    "mapa = img.load()\n",
    "\n",
    "width, height = 256, 256\n",
    "\n",
    "for y in range(height):\n",
    "    for x in range(width):\n",
    "        r = int(x / width * 255)\n",
    "        g = int(y / height * 255)\n",
    "        b = int(x / width * 255)\n",
    "        img.putpixel((x, y), (r, g, b))\n",
    "img.save('gradient_image.png')\n",
    "img.show()"
   ]
  },
  {
   "cell_type": "code",
   "execution_count": null,
   "id": "83f5a212",
   "metadata": {},
   "outputs": [],
   "source": []
  }
 ],
 "metadata": {
  "kernelspec": {
   "display_name": "Python 3 (ipykernel)",
   "language": "python",
   "name": "python3"
  },
  "language_info": {
   "codemirror_mode": {
    "name": "ipython",
    "version": 3
   },
   "file_extension": ".py",
   "mimetype": "text/x-python",
   "name": "python",
   "nbconvert_exporter": "python",
   "pygments_lexer": "ipython3",
   "version": "3.10.6"
  }
 },
 "nbformat": 4,
 "nbformat_minor": 5
}
